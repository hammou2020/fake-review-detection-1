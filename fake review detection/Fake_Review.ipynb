{
  "nbformat": 4,
  "nbformat_minor": 0,
  "metadata": {
    "colab": {
      "name": "Fake Review.ipynb",
      "provenance": [],
      "collapsed_sections": [],
      "toc_visible": true
    },
    "kernelspec": {
      "name": "python3",
      "display_name": "Python 3"
    }
  },
  "cells": [
    {
      "cell_type": "code",
      "metadata": {
        "id": "O68dt_c0Nadp",
        "colab_type": "code",
        "colab": {}
      },
      "source": [
        "# necessary imports\n",
        "import pandas as pd\n",
        "import numpy as np\n",
        "from sklearn.feature_extraction.text import CountVectorizer\n",
        "from sklearn.naive_bayes import MultinomialNB\n",
        "from sklearn.model_selection import train_test_split\n",
        "from sklearn import metrics\n",
        "from sklearn.metrics import precision_score\n",
        "from sklearn.metrics import recall_score\n",
        "from sklearn.metrics import f1_score"
      ],
      "execution_count": 0,
      "outputs": []
    },
    {
      "cell_type": "code",
      "metadata": {
        "id": "cYxM-K9Czuwx",
        "colab_type": "code",
        "outputId": "5352aa04-de60-46a4-d459-9bf4e7a772bf",
        "colab": {
          "base_uri": "https://localhost:8080/",
          "height": 419
        }
      },
      "source": [
        "#reading metadata file\n",
        "metadf = pd.read_csv(\"metadata\", sep='\\t',  lineterminator='\\n', names = ['user_id','prod_id','rating','label','date'])\n",
        "metadf"
      ],
      "execution_count": 2,
      "outputs": [
        {
          "output_type": "execute_result",
          "data": {
            "text/html": [
              "<div>\n",
              "<style scoped>\n",
              "    .dataframe tbody tr th:only-of-type {\n",
              "        vertical-align: middle;\n",
              "    }\n",
              "\n",
              "    .dataframe tbody tr th {\n",
              "        vertical-align: top;\n",
              "    }\n",
              "\n",
              "    .dataframe thead th {\n",
              "        text-align: right;\n",
              "    }\n",
              "</style>\n",
              "<table border=\"1\" class=\"dataframe\">\n",
              "  <thead>\n",
              "    <tr style=\"text-align: right;\">\n",
              "      <th></th>\n",
              "      <th>user_id</th>\n",
              "      <th>prod_id</th>\n",
              "      <th>rating</th>\n",
              "      <th>label</th>\n",
              "      <th>date</th>\n",
              "    </tr>\n",
              "  </thead>\n",
              "  <tbody>\n",
              "    <tr>\n",
              "      <th>0</th>\n",
              "      <td>923</td>\n",
              "      <td>0</td>\n",
              "      <td>3.0</td>\n",
              "      <td>-1</td>\n",
              "      <td>2014-12-08</td>\n",
              "    </tr>\n",
              "    <tr>\n",
              "      <th>1</th>\n",
              "      <td>924</td>\n",
              "      <td>0</td>\n",
              "      <td>3.0</td>\n",
              "      <td>-1</td>\n",
              "      <td>2013-05-16</td>\n",
              "    </tr>\n",
              "    <tr>\n",
              "      <th>2</th>\n",
              "      <td>925</td>\n",
              "      <td>0</td>\n",
              "      <td>4.0</td>\n",
              "      <td>-1</td>\n",
              "      <td>2013-07-01</td>\n",
              "    </tr>\n",
              "    <tr>\n",
              "      <th>3</th>\n",
              "      <td>926</td>\n",
              "      <td>0</td>\n",
              "      <td>4.0</td>\n",
              "      <td>-1</td>\n",
              "      <td>2011-07-28</td>\n",
              "    </tr>\n",
              "    <tr>\n",
              "      <th>4</th>\n",
              "      <td>927</td>\n",
              "      <td>0</td>\n",
              "      <td>4.0</td>\n",
              "      <td>-1</td>\n",
              "      <td>2010-11-01</td>\n",
              "    </tr>\n",
              "    <tr>\n",
              "      <th>...</th>\n",
              "      <td>...</td>\n",
              "      <td>...</td>\n",
              "      <td>...</td>\n",
              "      <td>...</td>\n",
              "      <td>...</td>\n",
              "    </tr>\n",
              "    <tr>\n",
              "      <th>359047</th>\n",
              "      <td>161146</td>\n",
              "      <td>349</td>\n",
              "      <td>5.0</td>\n",
              "      <td>1</td>\n",
              "      <td>2014-02-06</td>\n",
              "    </tr>\n",
              "    <tr>\n",
              "      <th>359048</th>\n",
              "      <td>116424</td>\n",
              "      <td>349</td>\n",
              "      <td>5.0</td>\n",
              "      <td>1</td>\n",
              "      <td>2014-01-31</td>\n",
              "    </tr>\n",
              "    <tr>\n",
              "      <th>359049</th>\n",
              "      <td>161147</td>\n",
              "      <td>349</td>\n",
              "      <td>5.0</td>\n",
              "      <td>1</td>\n",
              "      <td>2014-01-30</td>\n",
              "    </tr>\n",
              "    <tr>\n",
              "      <th>359050</th>\n",
              "      <td>97930</td>\n",
              "      <td>349</td>\n",
              "      <td>5.0</td>\n",
              "      <td>1</td>\n",
              "      <td>2014-01-25</td>\n",
              "    </tr>\n",
              "    <tr>\n",
              "      <th>359051</th>\n",
              "      <td>5260</td>\n",
              "      <td>349</td>\n",
              "      <td>5.0</td>\n",
              "      <td>1</td>\n",
              "      <td>2014-01-25</td>\n",
              "    </tr>\n",
              "  </tbody>\n",
              "</table>\n",
              "<p>359052 rows × 5 columns</p>\n",
              "</div>"
            ],
            "text/plain": [
              "        user_id  prod_id  rating  label        date\n",
              "0           923        0     3.0     -1  2014-12-08\n",
              "1           924        0     3.0     -1  2013-05-16\n",
              "2           925        0     4.0     -1  2013-07-01\n",
              "3           926        0     4.0     -1  2011-07-28\n",
              "4           927        0     4.0     -1  2010-11-01\n",
              "...         ...      ...     ...    ...         ...\n",
              "359047   161146      349     5.0      1  2014-02-06\n",
              "359048   116424      349     5.0      1  2014-01-31\n",
              "359049   161147      349     5.0      1  2014-01-30\n",
              "359050    97930      349     5.0      1  2014-01-25\n",
              "359051     5260      349     5.0      1  2014-01-25\n",
              "\n",
              "[359052 rows x 5 columns]"
            ]
          },
          "metadata": {
            "tags": []
          },
          "execution_count": 2
        }
      ]
    },
    {
      "cell_type": "code",
      "metadata": {
        "id": "kGwmObgH0Mls",
        "colab_type": "code",
        "outputId": "ed72c556-8719-40ce-ef01-14cad107ba15",
        "colab": {
          "base_uri": "https://localhost:8080/",
          "height": 419
        }
      },
      "source": [
        "#reading reviewContent file and loading it as pandas Dataframe\n",
        "reviewdf = pd.read_csv(\"reviewContent\", sep='\\t',  lineterminator='\\n', names = ['user_id','prod_id','date','review'])\n",
        "reviewdf"
      ],
      "execution_count": 3,
      "outputs": [
        {
          "output_type": "execute_result",
          "data": {
            "text/html": [
              "<div>\n",
              "<style scoped>\n",
              "    .dataframe tbody tr th:only-of-type {\n",
              "        vertical-align: middle;\n",
              "    }\n",
              "\n",
              "    .dataframe tbody tr th {\n",
              "        vertical-align: top;\n",
              "    }\n",
              "\n",
              "    .dataframe thead th {\n",
              "        text-align: right;\n",
              "    }\n",
              "</style>\n",
              "<table border=\"1\" class=\"dataframe\">\n",
              "  <thead>\n",
              "    <tr style=\"text-align: right;\">\n",
              "      <th></th>\n",
              "      <th>user_id</th>\n",
              "      <th>prod_id</th>\n",
              "      <th>date</th>\n",
              "      <th>review</th>\n",
              "    </tr>\n",
              "  </thead>\n",
              "  <tbody>\n",
              "    <tr>\n",
              "      <th>0</th>\n",
              "      <td>923</td>\n",
              "      <td>0</td>\n",
              "      <td>2014-12-08</td>\n",
              "      <td>The food at snack is a selection of popular Gr...</td>\n",
              "    </tr>\n",
              "    <tr>\n",
              "      <th>1</th>\n",
              "      <td>924</td>\n",
              "      <td>0</td>\n",
              "      <td>2013-05-16</td>\n",
              "      <td>This little place in Soho is wonderful. I had ...</td>\n",
              "    </tr>\n",
              "    <tr>\n",
              "      <th>2</th>\n",
              "      <td>925</td>\n",
              "      <td>0</td>\n",
              "      <td>2013-07-01</td>\n",
              "      <td>ordered lunch for 15 from Snack last Friday.  ...</td>\n",
              "    </tr>\n",
              "    <tr>\n",
              "      <th>3</th>\n",
              "      <td>926</td>\n",
              "      <td>0</td>\n",
              "      <td>2011-07-28</td>\n",
              "      <td>This is a beautiful quaint little restaurant o...</td>\n",
              "    </tr>\n",
              "    <tr>\n",
              "      <th>4</th>\n",
              "      <td>927</td>\n",
              "      <td>0</td>\n",
              "      <td>2010-11-01</td>\n",
              "      <td>Snack is great place for a  casual sit down lu...</td>\n",
              "    </tr>\n",
              "    <tr>\n",
              "      <th>...</th>\n",
              "      <td>...</td>\n",
              "      <td>...</td>\n",
              "      <td>...</td>\n",
              "      <td>...</td>\n",
              "    </tr>\n",
              "    <tr>\n",
              "      <th>258786</th>\n",
              "      <td>33201</td>\n",
              "      <td>668</td>\n",
              "      <td>2011-05-15</td>\n",
              "      <td>Best. Gelato. Outside. Of. Italy. No joke. Thi...</td>\n",
              "    </tr>\n",
              "    <tr>\n",
              "      <th>258787</th>\n",
              "      <td>78777</td>\n",
              "      <td>668</td>\n",
              "      <td>2011-05-15</td>\n",
              "      <td>This place has everything to make you Italian....</td>\n",
              "    </tr>\n",
              "    <tr>\n",
              "      <th>258788</th>\n",
              "      <td>26478</td>\n",
              "      <td>668</td>\n",
              "      <td>2011-05-15</td>\n",
              "      <td>One of my favorite places to go to in NYC!</td>\n",
              "    </tr>\n",
              "    <tr>\n",
              "      <th>258789</th>\n",
              "      <td>129766</td>\n",
              "      <td>668</td>\n",
              "      <td>2011-05-14</td>\n",
              "      <td>I was apprehensive about trying this place but...</td>\n",
              "    </tr>\n",
              "    <tr>\n",
              "      <th>258790</th>\n",
              "      <td>119589</td>\n",
              "      <td>668</td>\n",
              "      <td>2011-05-14</td>\n",
              "      <td>We were walking through Madison Square and saw...</td>\n",
              "    </tr>\n",
              "  </tbody>\n",
              "</table>\n",
              "<p>258791 rows × 4 columns</p>\n",
              "</div>"
            ],
            "text/plain": [
              "        user_id  ...                                             review\n",
              "0           923  ...  The food at snack is a selection of popular Gr...\n",
              "1           924  ...  This little place in Soho is wonderful. I had ...\n",
              "2           925  ...  ordered lunch for 15 from Snack last Friday.  ...\n",
              "3           926  ...  This is a beautiful quaint little restaurant o...\n",
              "4           927  ...  Snack is great place for a  casual sit down lu...\n",
              "...         ...  ...                                                ...\n",
              "258786    33201  ...  Best. Gelato. Outside. Of. Italy. No joke. Thi...\n",
              "258787    78777  ...  This place has everything to make you Italian....\n",
              "258788    26478  ...         One of my favorite places to go to in NYC!\n",
              "258789   129766  ...  I was apprehensive about trying this place but...\n",
              "258790   119589  ...  We were walking through Madison Square and saw...\n",
              "\n",
              "[258791 rows x 4 columns]"
            ]
          },
          "metadata": {
            "tags": []
          },
          "execution_count": 3
        }
      ]
    },
    {
      "cell_type": "code",
      "metadata": {
        "id": "OhDPl2zs7lYH",
        "colab_type": "code",
        "outputId": "d9e66540-b647-499f-f1fc-681f4b7c6525",
        "colab": {
          "base_uri": "https://localhost:8080/",
          "height": 255
        }
      },
      "source": [
        "# Cleaning null and Nan valuesif any\n",
        "reviewdf.dropna\n",
        "metadf.dropna"
      ],
      "execution_count": 4,
      "outputs": [
        {
          "output_type": "execute_result",
          "data": {
            "text/plain": [
              "<bound method DataFrame.dropna of         user_id  prod_id  rating  label        date\n",
              "0           923        0     3.0     -1  2014-12-08\n",
              "1           924        0     3.0     -1  2013-05-16\n",
              "2           925        0     4.0     -1  2013-07-01\n",
              "3           926        0     4.0     -1  2011-07-28\n",
              "4           927        0     4.0     -1  2010-11-01\n",
              "...         ...      ...     ...    ...         ...\n",
              "359047   161146      349     5.0      1  2014-02-06\n",
              "359048   116424      349     5.0      1  2014-01-31\n",
              "359049   161147      349     5.0      1  2014-01-30\n",
              "359050    97930      349     5.0      1  2014-01-25\n",
              "359051     5260      349     5.0      1  2014-01-25\n",
              "\n",
              "[359052 rows x 5 columns]>"
            ]
          },
          "metadata": {
            "tags": []
          },
          "execution_count": 4
        }
      ]
    },
    {
      "cell_type": "code",
      "metadata": {
        "id": "YK07R_Oh7cfI",
        "colab_type": "code",
        "colab": {
          "base_uri": "https://localhost:8080/",
          "height": 419
        },
        "outputId": "043a4a0d-1bc8-42b2-8836-3cdb10bd7d53"
      },
      "source": [
        "# merging both dataframes to make it easy for applying algorithm on common attributes like user_id, prod_id and date\n",
        "merged = metadf.merge(reviewdf, on=['user_id', 'prod_id','date'])\n",
        "merged"
      ],
      "execution_count": 5,
      "outputs": [
        {
          "output_type": "execute_result",
          "data": {
            "text/html": [
              "<div>\n",
              "<style scoped>\n",
              "    .dataframe tbody tr th:only-of-type {\n",
              "        vertical-align: middle;\n",
              "    }\n",
              "\n",
              "    .dataframe tbody tr th {\n",
              "        vertical-align: top;\n",
              "    }\n",
              "\n",
              "    .dataframe thead th {\n",
              "        text-align: right;\n",
              "    }\n",
              "</style>\n",
              "<table border=\"1\" class=\"dataframe\">\n",
              "  <thead>\n",
              "    <tr style=\"text-align: right;\">\n",
              "      <th></th>\n",
              "      <th>user_id</th>\n",
              "      <th>prod_id</th>\n",
              "      <th>rating</th>\n",
              "      <th>label</th>\n",
              "      <th>date</th>\n",
              "      <th>review</th>\n",
              "    </tr>\n",
              "  </thead>\n",
              "  <tbody>\n",
              "    <tr>\n",
              "      <th>0</th>\n",
              "      <td>923</td>\n",
              "      <td>0</td>\n",
              "      <td>3.0</td>\n",
              "      <td>-1</td>\n",
              "      <td>2014-12-08</td>\n",
              "      <td>The food at snack is a selection of popular Gr...</td>\n",
              "    </tr>\n",
              "    <tr>\n",
              "      <th>1</th>\n",
              "      <td>924</td>\n",
              "      <td>0</td>\n",
              "      <td>3.0</td>\n",
              "      <td>-1</td>\n",
              "      <td>2013-05-16</td>\n",
              "      <td>This little place in Soho is wonderful. I had ...</td>\n",
              "    </tr>\n",
              "    <tr>\n",
              "      <th>2</th>\n",
              "      <td>925</td>\n",
              "      <td>0</td>\n",
              "      <td>4.0</td>\n",
              "      <td>-1</td>\n",
              "      <td>2013-07-01</td>\n",
              "      <td>ordered lunch for 15 from Snack last Friday.  ...</td>\n",
              "    </tr>\n",
              "    <tr>\n",
              "      <th>3</th>\n",
              "      <td>926</td>\n",
              "      <td>0</td>\n",
              "      <td>4.0</td>\n",
              "      <td>-1</td>\n",
              "      <td>2011-07-28</td>\n",
              "      <td>This is a beautiful quaint little restaurant o...</td>\n",
              "    </tr>\n",
              "    <tr>\n",
              "      <th>4</th>\n",
              "      <td>927</td>\n",
              "      <td>0</td>\n",
              "      <td>4.0</td>\n",
              "      <td>-1</td>\n",
              "      <td>2010-11-01</td>\n",
              "      <td>Snack is great place for a  casual sit down lu...</td>\n",
              "    </tr>\n",
              "    <tr>\n",
              "      <th>...</th>\n",
              "      <td>...</td>\n",
              "      <td>...</td>\n",
              "      <td>...</td>\n",
              "      <td>...</td>\n",
              "      <td>...</td>\n",
              "      <td>...</td>\n",
              "    </tr>\n",
              "    <tr>\n",
              "      <th>258786</th>\n",
              "      <td>33201</td>\n",
              "      <td>668</td>\n",
              "      <td>5.0</td>\n",
              "      <td>1</td>\n",
              "      <td>2011-05-15</td>\n",
              "      <td>Best. Gelato. Outside. Of. Italy. No joke. Thi...</td>\n",
              "    </tr>\n",
              "    <tr>\n",
              "      <th>258787</th>\n",
              "      <td>78777</td>\n",
              "      <td>668</td>\n",
              "      <td>5.0</td>\n",
              "      <td>1</td>\n",
              "      <td>2011-05-15</td>\n",
              "      <td>This place has everything to make you Italian....</td>\n",
              "    </tr>\n",
              "    <tr>\n",
              "      <th>258788</th>\n",
              "      <td>26478</td>\n",
              "      <td>668</td>\n",
              "      <td>5.0</td>\n",
              "      <td>1</td>\n",
              "      <td>2011-05-15</td>\n",
              "      <td>One of my favorite places to go to in NYC!</td>\n",
              "    </tr>\n",
              "    <tr>\n",
              "      <th>258789</th>\n",
              "      <td>129766</td>\n",
              "      <td>668</td>\n",
              "      <td>5.0</td>\n",
              "      <td>1</td>\n",
              "      <td>2011-05-14</td>\n",
              "      <td>I was apprehensive about trying this place but...</td>\n",
              "    </tr>\n",
              "    <tr>\n",
              "      <th>258790</th>\n",
              "      <td>119589</td>\n",
              "      <td>668</td>\n",
              "      <td>4.0</td>\n",
              "      <td>1</td>\n",
              "      <td>2011-05-14</td>\n",
              "      <td>We were walking through Madison Square and saw...</td>\n",
              "    </tr>\n",
              "  </tbody>\n",
              "</table>\n",
              "<p>258791 rows × 6 columns</p>\n",
              "</div>"
            ],
            "text/plain": [
              "        user_id  ...                                             review\n",
              "0           923  ...  The food at snack is a selection of popular Gr...\n",
              "1           924  ...  This little place in Soho is wonderful. I had ...\n",
              "2           925  ...  ordered lunch for 15 from Snack last Friday.  ...\n",
              "3           926  ...  This is a beautiful quaint little restaurant o...\n",
              "4           927  ...  Snack is great place for a  casual sit down lu...\n",
              "...         ...  ...                                                ...\n",
              "258786    33201  ...  Best. Gelato. Outside. Of. Italy. No joke. Thi...\n",
              "258787    78777  ...  This place has everything to make you Italian....\n",
              "258788    26478  ...         One of my favorite places to go to in NYC!\n",
              "258789   129766  ...  I was apprehensive about trying this place but...\n",
              "258790   119589  ...  We were walking through Madison Square and saw...\n",
              "\n",
              "[258791 rows x 6 columns]"
            ]
          },
          "metadata": {
            "tags": []
          },
          "execution_count": 5
        }
      ]
    },
    {
      "cell_type": "code",
      "metadata": {
        "id": "P4R69GszI86z",
        "colab_type": "code",
        "colab": {
          "base_uri": "https://localhost:8080/",
          "height": 34
        },
        "outputId": "a43216ef-1363-48a2-ab37-0fff40ed218e"
      },
      "source": [
        "# checking the imbalance in positive and negative labels\n",
        "np.unique(merged['label'], return_counts=True)"
      ],
      "execution_count": 6,
      "outputs": [
        {
          "output_type": "execute_result",
          "data": {
            "text/plain": [
              "(array([-1,  1]), array([ 26966, 231825]))"
            ]
          },
          "metadata": {
            "tags": []
          },
          "execution_count": 6
        }
      ]
    },
    {
      "cell_type": "code",
      "metadata": {
        "id": "9OgtuHIoEJgG",
        "colab_type": "code",
        "colab": {
          "base_uri": "https://localhost:8080/",
          "height": 419
        },
        "outputId": "2c172f5a-12a9-465c-fa88-5ddc891a95c5"
      },
      "source": [
        "# sorting the dataframe for splitting\n",
        "df = merged[['user_id','prod_id','date','rating','review','label']]\n",
        "df"
      ],
      "execution_count": 7,
      "outputs": [
        {
          "output_type": "execute_result",
          "data": {
            "text/html": [
              "<div>\n",
              "<style scoped>\n",
              "    .dataframe tbody tr th:only-of-type {\n",
              "        vertical-align: middle;\n",
              "    }\n",
              "\n",
              "    .dataframe tbody tr th {\n",
              "        vertical-align: top;\n",
              "    }\n",
              "\n",
              "    .dataframe thead th {\n",
              "        text-align: right;\n",
              "    }\n",
              "</style>\n",
              "<table border=\"1\" class=\"dataframe\">\n",
              "  <thead>\n",
              "    <tr style=\"text-align: right;\">\n",
              "      <th></th>\n",
              "      <th>user_id</th>\n",
              "      <th>prod_id</th>\n",
              "      <th>date</th>\n",
              "      <th>rating</th>\n",
              "      <th>review</th>\n",
              "      <th>label</th>\n",
              "    </tr>\n",
              "  </thead>\n",
              "  <tbody>\n",
              "    <tr>\n",
              "      <th>0</th>\n",
              "      <td>923</td>\n",
              "      <td>0</td>\n",
              "      <td>2014-12-08</td>\n",
              "      <td>3.0</td>\n",
              "      <td>The food at snack is a selection of popular Gr...</td>\n",
              "      <td>-1</td>\n",
              "    </tr>\n",
              "    <tr>\n",
              "      <th>1</th>\n",
              "      <td>924</td>\n",
              "      <td>0</td>\n",
              "      <td>2013-05-16</td>\n",
              "      <td>3.0</td>\n",
              "      <td>This little place in Soho is wonderful. I had ...</td>\n",
              "      <td>-1</td>\n",
              "    </tr>\n",
              "    <tr>\n",
              "      <th>2</th>\n",
              "      <td>925</td>\n",
              "      <td>0</td>\n",
              "      <td>2013-07-01</td>\n",
              "      <td>4.0</td>\n",
              "      <td>ordered lunch for 15 from Snack last Friday.  ...</td>\n",
              "      <td>-1</td>\n",
              "    </tr>\n",
              "    <tr>\n",
              "      <th>3</th>\n",
              "      <td>926</td>\n",
              "      <td>0</td>\n",
              "      <td>2011-07-28</td>\n",
              "      <td>4.0</td>\n",
              "      <td>This is a beautiful quaint little restaurant o...</td>\n",
              "      <td>-1</td>\n",
              "    </tr>\n",
              "    <tr>\n",
              "      <th>4</th>\n",
              "      <td>927</td>\n",
              "      <td>0</td>\n",
              "      <td>2010-11-01</td>\n",
              "      <td>4.0</td>\n",
              "      <td>Snack is great place for a  casual sit down lu...</td>\n",
              "      <td>-1</td>\n",
              "    </tr>\n",
              "    <tr>\n",
              "      <th>...</th>\n",
              "      <td>...</td>\n",
              "      <td>...</td>\n",
              "      <td>...</td>\n",
              "      <td>...</td>\n",
              "      <td>...</td>\n",
              "      <td>...</td>\n",
              "    </tr>\n",
              "    <tr>\n",
              "      <th>258786</th>\n",
              "      <td>33201</td>\n",
              "      <td>668</td>\n",
              "      <td>2011-05-15</td>\n",
              "      <td>5.0</td>\n",
              "      <td>Best. Gelato. Outside. Of. Italy. No joke. Thi...</td>\n",
              "      <td>1</td>\n",
              "    </tr>\n",
              "    <tr>\n",
              "      <th>258787</th>\n",
              "      <td>78777</td>\n",
              "      <td>668</td>\n",
              "      <td>2011-05-15</td>\n",
              "      <td>5.0</td>\n",
              "      <td>This place has everything to make you Italian....</td>\n",
              "      <td>1</td>\n",
              "    </tr>\n",
              "    <tr>\n",
              "      <th>258788</th>\n",
              "      <td>26478</td>\n",
              "      <td>668</td>\n",
              "      <td>2011-05-15</td>\n",
              "      <td>5.0</td>\n",
              "      <td>One of my favorite places to go to in NYC!</td>\n",
              "      <td>1</td>\n",
              "    </tr>\n",
              "    <tr>\n",
              "      <th>258789</th>\n",
              "      <td>129766</td>\n",
              "      <td>668</td>\n",
              "      <td>2011-05-14</td>\n",
              "      <td>5.0</td>\n",
              "      <td>I was apprehensive about trying this place but...</td>\n",
              "      <td>1</td>\n",
              "    </tr>\n",
              "    <tr>\n",
              "      <th>258790</th>\n",
              "      <td>119589</td>\n",
              "      <td>668</td>\n",
              "      <td>2011-05-14</td>\n",
              "      <td>4.0</td>\n",
              "      <td>We were walking through Madison Square and saw...</td>\n",
              "      <td>1</td>\n",
              "    </tr>\n",
              "  </tbody>\n",
              "</table>\n",
              "<p>258791 rows × 6 columns</p>\n",
              "</div>"
            ],
            "text/plain": [
              "        user_id  ...  label\n",
              "0           923  ...     -1\n",
              "1           924  ...     -1\n",
              "2           925  ...     -1\n",
              "3           926  ...     -1\n",
              "4           927  ...     -1\n",
              "...         ...  ...    ...\n",
              "258786    33201  ...      1\n",
              "258787    78777  ...      1\n",
              "258788    26478  ...      1\n",
              "258789   129766  ...      1\n",
              "258790   119589  ...      1\n",
              "\n",
              "[258791 rows x 6 columns]"
            ]
          },
          "metadata": {
            "tags": []
          },
          "execution_count": 7
        }
      ]
    },
    {
      "cell_type": "code",
      "metadata": {
        "id": "H1bUZV85FDig",
        "colab_type": "code",
        "colab": {
          "base_uri": "https://localhost:8080/",
          "height": 34
        },
        "outputId": "b8223ef5-4dc5-40ed-aded-ecccd252a490"
      },
      "source": [
        "# assigning reviews to X variable for smooth operation likewise with label\n",
        "data_x = df['review']\n",
        "data_y = df['label']\n",
        "print(data_x.shape, data_y.shape)"
      ],
      "execution_count": 8,
      "outputs": [
        {
          "output_type": "stream",
          "text": [
            "(258791,) (258791,)\n"
          ],
          "name": "stdout"
        }
      ]
    },
    {
      "cell_type": "code",
      "metadata": {
        "id": "fxM0nGBQGEgP",
        "colab_type": "code",
        "colab": {}
      },
      "source": [
        "# splitting the data into test and train samples\n",
        "X_train, X_test, y_train, y_test = train_test_split(data_x, data_y, test_size=0.3)"
      ],
      "execution_count": 0,
      "outputs": []
    },
    {
      "cell_type": "code",
      "metadata": {
        "id": "LkLeXu2JGzrv",
        "colab_type": "code",
        "colab": {}
      },
      "source": [
        "# converting text reviews to numerical values\n",
        "cv =  CountVectorizer()\n",
        "\n",
        "X_traincv = cv.fit_transform(X_train)\n",
        "X_testcv = cv.transform(X_test)"
      ],
      "execution_count": 0,
      "outputs": []
    },
    {
      "cell_type": "code",
      "metadata": {
        "id": "qAfiT3FuG4kX",
        "colab_type": "code",
        "colab": {
          "base_uri": "https://localhost:8080/",
          "height": 34
        },
        "outputId": "659fb48b-a06b-428b-f9ab-ddc9a37f3a7f"
      },
      "source": [
        "#declaring and training the naivebayes model\n",
        "nbayes = MultinomialNB()\n",
        "\n",
        "nbayes.fit(X_traincv, y_train)"
      ],
      "execution_count": 11,
      "outputs": [
        {
          "output_type": "execute_result",
          "data": {
            "text/plain": [
              "MultinomialNB(alpha=1.0, class_prior=None, fit_prior=True)"
            ]
          },
          "metadata": {
            "tags": []
          },
          "execution_count": 11
        }
      ]
    },
    {
      "cell_type": "code",
      "metadata": {
        "id": "caGjzQvZHAyg",
        "colab_type": "code",
        "colab": {}
      },
      "source": [
        "# getting predictions from the trained model\n",
        "y_predictions = nbayes.predict(X_testcv)"
      ],
      "execution_count": 0,
      "outputs": []
    },
    {
      "cell_type": "code",
      "metadata": {
        "id": "8V6GHsoiHRNY",
        "colab_type": "code",
        "colab": {
          "base_uri": "https://localhost:8080/",
          "height": 221
        },
        "outputId": "1aafeb9e-9446-4650-d054-dfd5fe7ed584"
      },
      "source": [
        "# example output of labeling done by the model against test set reviews\n",
        "y_result = list(y_predictions)\n",
        "yp=[\"Real\" if a==1 else \"Fake\" for a in y_result]\n",
        "X_testlist = list(X_test)\n",
        "output_fm = pd.DataFrame({'Review':X_testlist ,'label':yp})\n",
        "print(np.unique(output_fm['label'], return_counts=True))\n",
        "output_fm.head()"
      ],
      "execution_count": 13,
      "outputs": [
        {
          "output_type": "stream",
          "text": [
            "(array(['Fake', 'Real'], dtype=object), array([ 5522, 72116]))\n"
          ],
          "name": "stdout"
        },
        {
          "output_type": "execute_result",
          "data": {
            "text/html": [
              "<div>\n",
              "<style scoped>\n",
              "    .dataframe tbody tr th:only-of-type {\n",
              "        vertical-align: middle;\n",
              "    }\n",
              "\n",
              "    .dataframe tbody tr th {\n",
              "        vertical-align: top;\n",
              "    }\n",
              "\n",
              "    .dataframe thead th {\n",
              "        text-align: right;\n",
              "    }\n",
              "</style>\n",
              "<table border=\"1\" class=\"dataframe\">\n",
              "  <thead>\n",
              "    <tr style=\"text-align: right;\">\n",
              "      <th></th>\n",
              "      <th>Review</th>\n",
              "      <th>label</th>\n",
              "    </tr>\n",
              "  </thead>\n",
              "  <tbody>\n",
              "    <tr>\n",
              "      <th>0</th>\n",
              "      <td>We came here based on a recommendation from a ...</td>\n",
              "      <td>Real</td>\n",
              "    </tr>\n",
              "    <tr>\n",
              "      <th>1</th>\n",
              "      <td>Totally a fan of this new sports bar in the \"H...</td>\n",
              "      <td>Real</td>\n",
              "    </tr>\n",
              "    <tr>\n",
              "      <th>2</th>\n",
              "      <td>In a word - roaches. But wait, there's more! I...</td>\n",
              "      <td>Fake</td>\n",
              "    </tr>\n",
              "    <tr>\n",
              "      <th>3</th>\n",
              "      <td>Nice atmosphere, friendly service, and pretty ...</td>\n",
              "      <td>Real</td>\n",
              "    </tr>\n",
              "    <tr>\n",
              "      <th>4</th>\n",
              "      <td>On a non ritzy side street of soho lies this p...</td>\n",
              "      <td>Real</td>\n",
              "    </tr>\n",
              "  </tbody>\n",
              "</table>\n",
              "</div>"
            ],
            "text/plain": [
              "                                              Review label\n",
              "0  We came here based on a recommendation from a ...  Real\n",
              "1  Totally a fan of this new sports bar in the \"H...  Real\n",
              "2  In a word - roaches. But wait, there's more! I...  Fake\n",
              "3  Nice atmosphere, friendly service, and pretty ...  Real\n",
              "4  On a non ritzy side street of soho lies this p...  Real"
            ]
          },
          "metadata": {
            "tags": []
          },
          "execution_count": 13
        }
      ]
    },
    {
      "cell_type": "code",
      "metadata": {
        "id": "ClBFsz94HhS4",
        "colab_type": "code",
        "colab": {
          "base_uri": "https://localhost:8080/",
          "height": 85
        },
        "outputId": "6adbf002-31a8-473c-9a48-84035de23b16"
      },
      "source": [
        "print(\"Accuracy % :\",metrics.accuracy_score(y_test, y_predictions)*100)\n",
        "print(\"Precision Score: \", precision_score(y_test, y_predictions, average='micro'))\n",
        "print(\"Recall Score: \",recall_score(y_test, y_predictions, average='micro') )\n",
        "print(\"F1 Score: \",f1_score(y_test, y_predictions, average='micro') )"
      ],
      "execution_count": 14,
      "outputs": [
        {
          "output_type": "stream",
          "text": [
            "Accuracy % : 86.13436719132383\n",
            "Precision Score:  0.8613436719132384\n",
            "Recall Score:  0.8613436719132384\n",
            "F1 Score:  0.8613436719132384\n"
          ],
          "name": "stdout"
        }
      ]
    },
    {
      "cell_type": "code",
      "metadata": {
        "id": "j5Hr51hWcp-V",
        "colab_type": "code",
        "colab": {}
      },
      "source": [
        ""
      ],
      "execution_count": 0,
      "outputs": []
    }
  ]
}